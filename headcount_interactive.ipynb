{
 "cells": [
  {
   "cell_type": "code",
   "execution_count": 2,
   "metadata": {},
   "outputs": [
    {
     "data": {
      "application/vnd.jupyter.widget-view+json": {
       "model_id": "a1f47fbddcda45d783df4816be1f7cd8",
       "version_major": 2,
       "version_minor": 0
      },
      "text/plain": [
       "interactive(children=(Dropdown(description='Select Name:', options=('15Five', '1E', '1Password', '1WorldSync',…"
      ]
     },
     "metadata": {},
     "output_type": "display_data"
    }
   ],
   "source": [
    "import pandas as pd\n",
    "import matplotlib.pyplot as plt\n",
    "import seaborn as sns\n",
    "import matplotlib.dates as mdates\n",
    "import matplotlib.ticker as mtick\n",
    "import ipywidgets as widgets\n",
    "from IPython.display import display\n",
    "from ipywidgets import interactive\n",
    "\n",
    "# Read the Excel file into a DataFrame (assuming you've already read the data)\n",
    "# Replace 'excel_file' with the path to your Excel file.\n",
    "excel_file = \"headcount_data.xlsx\"\n",
    "df = pd.read_excel(excel_file)\n",
    "\n",
    "# Set a brighter blue color\n",
    "bright_blue = \"#007acc\"\n",
    "\n",
    "# Function to plot the main data\n",
    "def plot_main_data(df_filtered, name):\n",
    "    # Create subplots with three plots arranged horizontally\n",
    "    fig, axes = plt.subplots(1, 3, figsize=(16, 5))  # 1 row, 3 columns\n",
    "    \n",
    "    # Plot 'Unique Visitors' in the first subplot (left)\n",
    "    sns.lineplot(x=df_filtered['Data Month'], y=df_filtered['Unique Visitors'], color=bright_blue, linewidth=2, ax=axes[0])\n",
    "    axes[0].set_title(f'Unique Visitors for {name}', fontsize=16, fontweight='bold')\n",
    "    axes[0].set_xlabel('Data Month', fontsize=14)\n",
    "    axes[0].set_ylabel('Unique Visitors', fontsize=14)\n",
    "    axes[0].tick_params(axis='x', labelrotation=45)\n",
    "    axes[0].grid(False)\n",
    "    axes[0].yaxis.set_major_formatter(mtick.FuncFormatter(lambda x, _: '{:,.0f}'.format(x/1e6)))\n",
    "    \n",
    "    # Plot 'Visits' in the second subplot (middle)\n",
    "    sns.lineplot(x=df_filtered['Data Month'], y=df_filtered['Visits'], color='green', linewidth=2, ax=axes[1])\n",
    "    axes[1].set_title(f'Visits for {name}', fontsize=16, fontweight='bold')\n",
    "    axes[1].set_xlabel('Data Month', fontsize=14)\n",
    "    axes[1].set_ylabel('Visits', fontsize=14)\n",
    "    axes[1].tick_params(axis='x', labelrotation=45)\n",
    "    axes[1].grid(False)\n",
    "    \n",
    "    # Plot 'Headcount' in the third subplot (right)\n",
    "    sns.lineplot(x=df_filtered['Data Month'], y=df_filtered['Headcount'], color='purple', linewidth=2, ax=axes[2])\n",
    "    axes[2].set_title(f'Headcount for {name}', fontsize=16, fontweight='bold')\n",
    "    axes[2].set_xlabel('Data Month', fontsize=14)\n",
    "    axes[2].set_ylabel('Headcount', fontsize=14)\n",
    "    axes[2].tick_params(axis='x', labelrotation=45)\n",
    "    axes[2].grid(False)\n",
    "    \n",
    "    # Format y-axis labels for all subplots\n",
    "    for ax in axes:\n",
    "        ax.get_yaxis().set_major_formatter(mtick.FuncFormatter(lambda x, _: '{:,.0f}'.format(x/1e6)))\n",
    "    \n",
    "    # Adjust spacing\n",
    "    plt.tight_layout()\n",
    "    \n",
    "    # Show the subplots\n",
    "    plt.show()\n",
    "\n",
    "# Function to update the plots based on the selected name\n",
    "def update_plots(name):\n",
    "    # Filter the data for the selected name\n",
    "    df_filtered = df[df['Name'] == name]\n",
    "    \n",
    "    # Plot the main data\n",
    "    plot_main_data(df_filtered, name)\n",
    "\n",
    "# Get unique names and sort them alphabetically\n",
    "unique_names = sorted(df['Name'].unique())\n",
    "\n",
    "# Define the dropdown widget with options for names (sorted alphabetically)\n",
    "name_dropdown = widgets.Dropdown(\n",
    "    options=unique_names,\n",
    "    description='Select Name:',\n",
    ")\n",
    "\n",
    "# Create an interactive plot using the dropdown widget\n",
    "interactive_plot = interactive(update_plots, name=name_dropdown)\n",
    "\n",
    "# Display the interactive plot\n",
    "display(interactive_plot)\n"
   ]
  }
 ],
 "metadata": {
  "kernelspec": {
   "display_name": "Python 3",
   "language": "python",
   "name": "python3"
  },
  "language_info": {
   "codemirror_mode": {
    "name": "ipython",
    "version": 3
   },
   "file_extension": ".py",
   "mimetype": "text/x-python",
   "name": "python",
   "nbconvert_exporter": "python",
   "pygments_lexer": "ipython3",
   "version": "3.11.3"
  },
  "orig_nbformat": 4
 },
 "nbformat": 4,
 "nbformat_minor": 2
}
